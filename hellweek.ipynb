{
  "nbformat": 4,
  "nbformat_minor": 0,
  "metadata": {
    "colab": {
      "provenance": [],
      "authorship_tag": "ABX9TyNKyG5pejLCuRkWoIZqiv0O",
      "include_colab_link": true
    },
    "kernelspec": {
      "name": "python3",
      "display_name": "Python 3"
    },
    "language_info": {
      "name": "python"
    },
    "accelerator": "TPU"
  },
  "cells": [
    {
      "cell_type": "markdown",
      "metadata": {
        "id": "view-in-github",
        "colab_type": "text"
      },
      "source": [
        "<a href=\"https://colab.research.google.com/github/Sudeesh07/chinese-number-identification/blob/main/hellweek.ipynb\" target=\"_parent\"><img src=\"https://colab.research.google.com/assets/colab-badge.svg\" alt=\"Open In Colab\"/></a>"
      ]
    },
    {
      "cell_type": "code",
      "source": [
        "from google.colab import drive\n",
        "drive.mount('/content/drive')"
      ],
      "metadata": {
        "colab": {
          "base_uri": "https://localhost:8080/"
        },
        "id": "QDERu5tBbfC3",
        "outputId": "c03b47d2-a3e7-41a4-8bec-ebb5a5f2df32"
      },
      "execution_count": 1,
      "outputs": [
        {
          "output_type": "stream",
          "name": "stdout",
          "text": [
            "Mounted at /content/drive\n"
          ]
        }
      ]
    },
    {
      "cell_type": "code",
      "source": [
        "import pandas as pd\n",
        "import numpy as np"
      ],
      "metadata": {
        "id": "bXdgoI8cb1zf"
      },
      "execution_count": 2,
      "outputs": []
    },
    {
      "cell_type": "code",
      "source": [
        "train_path = '/content/drive/MyDrive/hell-week/train.csv'"
      ],
      "metadata": {
        "id": "6XL5H9LocfMg"
      },
      "execution_count": 3,
      "outputs": []
    },
    {
      "cell_type": "code",
      "execution_count": 4,
      "metadata": {
        "colab": {
          "base_uri": "https://localhost:8080/",
          "height": 473
        },
        "id": "oaBUVgmxnBzI",
        "outputId": "5028898d-d468-45ab-fe69-c1b9fad34602"
      },
      "outputs": [
        {
          "output_type": "execute_result",
          "data": {
            "text/plain": [
              "         UID                ph_no    cvv  credit_card_number  \\\n",
              "0  T77962103           7059868985  673.0        2.131868e+14   \n",
              "1  O92591533  +1-288-810-2425x013  983.0        4.820055e+15   \n",
              "2  O31883571    791.502.4387x7276  855.0        4.031429e+15   \n",
              "3  M18080565           2522308761  806.0        3.036423e+13   \n",
              "4  Q74073854     683-521-2001x423  424.0        4.610207e+15   \n",
              "\n",
              "                             job                      email  \\\n",
              "0                           Copy  guerrerodavid@example.org   \n",
              "1  Interior and spatial designer     michaela47@example.org   \n",
              "2       Scientist, water quality       zhoffman@example.org   \n",
              "3                   Toxicologist         hprice@example.net   \n",
              "4              Software engineer      michael61@example.net   \n",
              "\n",
              "                         url                country  emoji             name  \\\n",
              "0         http://garcia.org/                  Gabon      📑     Cathy Cherry   \n",
              "1          http://ortiz.com/                Bermuda     🥷🏿    Austin Graham   \n",
              "2          http://kelly.com/  Sao Tome and Principe    👩‍💻      Frank Smith   \n",
              "3          http://mann.info/                  Korea    NaN     Austin Young   \n",
              "4  https://www.mitchell.biz/     Russian Federation  💆🏿‍♂️  Kimberly Wilson   \n",
              "\n",
              "   ...                            qhUzJ                             FpCOT  \\\n",
              "0  ...    🍣🏿🟠U👨@9.028568970658524@️bY‍t  N6♀rs%-0.17374199145886737%g2Fu7   \n",
              "1  ...   🍣🏿🟠U👨@-40.77392373961654@️bY‍t     N6♀rs%3.836527507653148%g2Fu7   \n",
              "2  ...    🍣🏿🟠U👨@32.83118091536586@️bY‍t     N6♀rs%6.673810456792015%g2Fu7   \n",
              "3  ...  🍣🏿🟠U👨@-11.829454766573882@️bY‍t    N6♀rs%-10.87012476653127%g2Fu7   \n",
              "4  ...   🍣🏿🟠U👨@10.957430264267883@️bY‍t   N6♀rs%-1.5309050040841568%g2Fu7   \n",
              "\n",
              "                             zEnW3                            ASDn5  \\\n",
              "0  dwLNC+-16.438253859793118+D🟠Mj👩   ♀Y‍tt^-5.683708646092431^7b🎓🍣T   \n",
              "1  dwLNC+-20.503862282922828+D🟠Mj👩    ♀Y‍tt^4.345119531921794^7b🎓🍣T   \n",
              "2   dwLNC+31.545003675536307+D🟠Mj👩  ♀Y‍tt^-1.1189348865153141^7b🎓🍣T   \n",
              "3   dwLNC+26.131133464440587+D🟠Mj👩   ♀Y‍tt^2.1159115210320385^7b🎓🍣T   \n",
              "4  dwLNC+-17.670060957130605+D🟠Mj👩    ♀Y‍tt^0.132418797411758^7b🎓🍣T   \n",
              "\n",
              "                              vF2is                            pZijn  \\\n",
              "0     Q👩👨H🏾?4.495020766798911?p🎨dBV   JC🍣8Q!1.3976340938324077!Wo‍6t   \n",
              "1  Q👩👨H🏾?-0.19904265803833332?p🎨dBV    JC🍣8Q!3.414072326617339!Wo‍6t   \n",
              "2    Q👩👨H🏾?-2.109315804181183?p🎨dBV    JC🍣8Q!6.773526691273227!Wo‍6t   \n",
              "3     Q👩👨H🏾?7.373067390546165?p🎨dBV  JC🍣8Q!-0.2388097363537749!Wo‍6t   \n",
              "4    Q👩👨H🏾?3.6960467337932292?p🎨dBV    JC🍣8Q!4.588960052905303!Wo‍6t   \n",
              "\n",
              "                             WUc3c                            sCIyG  \\\n",
              "0  QtgcM|-2.1616012233562616|srwW❇    ♀👩🦐pq%7.619063527183258%👨Oet♀   \n",
              "1    QtgcM|8.673900995107994|srwW❇  ♀👩🦐pq%-0.6359934104694338%👨Oet♀   \n",
              "2   QtgcM|1.7184076239046218|srwW❇   ♀👩🦐pq%-35.95525145090523%👨Oet♀   \n",
              "3    QtgcM|-5.42787813792933|srwW❇   ♀👩🦐pq%24.501780969213996%👨Oet♀   \n",
              "4   QtgcM|-3.735829327461521|srwW❇   ♀👩🦐pq%18.194146730985878%👨Oet♀   \n",
              "\n",
              "                             qaERi          state  \n",
              "0    ‍🏿🟠👩X+-7.00274740118153+‍b🎨VK        Despair  \n",
              "1  ‍🏿🟠👩X+-11.039355040136286+‍b🎨VK  Worthlessness  \n",
              "2      ‍🏿🟠👩X+8.6752786215897+‍b🎨VK         Stress  \n",
              "3  ‍🏿🟠👩X+-0.8456272162320895+‍b🎨VK        Fatigue  \n",
              "4   ‍🏿🟠👩X+10.404818391481196+‍b🎨VK          Tears  \n",
              "\n",
              "[5 rows x 111 columns]"
            ],
            "text/html": [
              "\n",
              "\n",
              "  <div id=\"df-af16b931-b5e0-4916-bc52-24489a42da50\">\n",
              "    <div class=\"colab-df-container\">\n",
              "      <div>\n",
              "<style scoped>\n",
              "    .dataframe tbody tr th:only-of-type {\n",
              "        vertical-align: middle;\n",
              "    }\n",
              "\n",
              "    .dataframe tbody tr th {\n",
              "        vertical-align: top;\n",
              "    }\n",
              "\n",
              "    .dataframe thead th {\n",
              "        text-align: right;\n",
              "    }\n",
              "</style>\n",
              "<table border=\"1\" class=\"dataframe\">\n",
              "  <thead>\n",
              "    <tr style=\"text-align: right;\">\n",
              "      <th></th>\n",
              "      <th>UID</th>\n",
              "      <th>ph_no</th>\n",
              "      <th>cvv</th>\n",
              "      <th>credit_card_number</th>\n",
              "      <th>job</th>\n",
              "      <th>email</th>\n",
              "      <th>url</th>\n",
              "      <th>country</th>\n",
              "      <th>emoji</th>\n",
              "      <th>name</th>\n",
              "      <th>...</th>\n",
              "      <th>qhUzJ</th>\n",
              "      <th>FpCOT</th>\n",
              "      <th>zEnW3</th>\n",
              "      <th>ASDn5</th>\n",
              "      <th>vF2is</th>\n",
              "      <th>pZijn</th>\n",
              "      <th>WUc3c</th>\n",
              "      <th>sCIyG</th>\n",
              "      <th>qaERi</th>\n",
              "      <th>state</th>\n",
              "    </tr>\n",
              "  </thead>\n",
              "  <tbody>\n",
              "    <tr>\n",
              "      <th>0</th>\n",
              "      <td>T77962103</td>\n",
              "      <td>7059868985</td>\n",
              "      <td>673.0</td>\n",
              "      <td>2.131868e+14</td>\n",
              "      <td>Copy</td>\n",
              "      <td>guerrerodavid@example.org</td>\n",
              "      <td>http://garcia.org/</td>\n",
              "      <td>Gabon</td>\n",
              "      <td>📑</td>\n",
              "      <td>Cathy Cherry</td>\n",
              "      <td>...</td>\n",
              "      <td>🍣🏿🟠U👨@9.028568970658524@️bY‍t</td>\n",
              "      <td>N6♀rs%-0.17374199145886737%g2Fu7</td>\n",
              "      <td>dwLNC+-16.438253859793118+D🟠Mj👩</td>\n",
              "      <td>♀Y‍tt^-5.683708646092431^7b🎓🍣T</td>\n",
              "      <td>Q👩👨H🏾?4.495020766798911?p🎨dBV</td>\n",
              "      <td>JC🍣8Q!1.3976340938324077!Wo‍6t</td>\n",
              "      <td>QtgcM|-2.1616012233562616|srwW❇</td>\n",
              "      <td>♀👩🦐pq%7.619063527183258%👨Oet♀</td>\n",
              "      <td>‍🏿🟠👩X+-7.00274740118153+‍b🎨VK</td>\n",
              "      <td>Despair</td>\n",
              "    </tr>\n",
              "    <tr>\n",
              "      <th>1</th>\n",
              "      <td>O92591533</td>\n",
              "      <td>+1-288-810-2425x013</td>\n",
              "      <td>983.0</td>\n",
              "      <td>4.820055e+15</td>\n",
              "      <td>Interior and spatial designer</td>\n",
              "      <td>michaela47@example.org</td>\n",
              "      <td>http://ortiz.com/</td>\n",
              "      <td>Bermuda</td>\n",
              "      <td>🥷🏿</td>\n",
              "      <td>Austin Graham</td>\n",
              "      <td>...</td>\n",
              "      <td>🍣🏿🟠U👨@-40.77392373961654@️bY‍t</td>\n",
              "      <td>N6♀rs%3.836527507653148%g2Fu7</td>\n",
              "      <td>dwLNC+-20.503862282922828+D🟠Mj👩</td>\n",
              "      <td>♀Y‍tt^4.345119531921794^7b🎓🍣T</td>\n",
              "      <td>Q👩👨H🏾?-0.19904265803833332?p🎨dBV</td>\n",
              "      <td>JC🍣8Q!3.414072326617339!Wo‍6t</td>\n",
              "      <td>QtgcM|8.673900995107994|srwW❇</td>\n",
              "      <td>♀👩🦐pq%-0.6359934104694338%👨Oet♀</td>\n",
              "      <td>‍🏿🟠👩X+-11.039355040136286+‍b🎨VK</td>\n",
              "      <td>Worthlessness</td>\n",
              "    </tr>\n",
              "    <tr>\n",
              "      <th>2</th>\n",
              "      <td>O31883571</td>\n",
              "      <td>791.502.4387x7276</td>\n",
              "      <td>855.0</td>\n",
              "      <td>4.031429e+15</td>\n",
              "      <td>Scientist, water quality</td>\n",
              "      <td>zhoffman@example.org</td>\n",
              "      <td>http://kelly.com/</td>\n",
              "      <td>Sao Tome and Principe</td>\n",
              "      <td>👩‍💻</td>\n",
              "      <td>Frank Smith</td>\n",
              "      <td>...</td>\n",
              "      <td>🍣🏿🟠U👨@32.83118091536586@️bY‍t</td>\n",
              "      <td>N6♀rs%6.673810456792015%g2Fu7</td>\n",
              "      <td>dwLNC+31.545003675536307+D🟠Mj👩</td>\n",
              "      <td>♀Y‍tt^-1.1189348865153141^7b🎓🍣T</td>\n",
              "      <td>Q👩👨H🏾?-2.109315804181183?p🎨dBV</td>\n",
              "      <td>JC🍣8Q!6.773526691273227!Wo‍6t</td>\n",
              "      <td>QtgcM|1.7184076239046218|srwW❇</td>\n",
              "      <td>♀👩🦐pq%-35.95525145090523%👨Oet♀</td>\n",
              "      <td>‍🏿🟠👩X+8.6752786215897+‍b🎨VK</td>\n",
              "      <td>Stress</td>\n",
              "    </tr>\n",
              "    <tr>\n",
              "      <th>3</th>\n",
              "      <td>M18080565</td>\n",
              "      <td>2522308761</td>\n",
              "      <td>806.0</td>\n",
              "      <td>3.036423e+13</td>\n",
              "      <td>Toxicologist</td>\n",
              "      <td>hprice@example.net</td>\n",
              "      <td>http://mann.info/</td>\n",
              "      <td>Korea</td>\n",
              "      <td>NaN</td>\n",
              "      <td>Austin Young</td>\n",
              "      <td>...</td>\n",
              "      <td>🍣🏿🟠U👨@-11.829454766573882@️bY‍t</td>\n",
              "      <td>N6♀rs%-10.87012476653127%g2Fu7</td>\n",
              "      <td>dwLNC+26.131133464440587+D🟠Mj👩</td>\n",
              "      <td>♀Y‍tt^2.1159115210320385^7b🎓🍣T</td>\n",
              "      <td>Q👩👨H🏾?7.373067390546165?p🎨dBV</td>\n",
              "      <td>JC🍣8Q!-0.2388097363537749!Wo‍6t</td>\n",
              "      <td>QtgcM|-5.42787813792933|srwW❇</td>\n",
              "      <td>♀👩🦐pq%24.501780969213996%👨Oet♀</td>\n",
              "      <td>‍🏿🟠👩X+-0.8456272162320895+‍b🎨VK</td>\n",
              "      <td>Fatigue</td>\n",
              "    </tr>\n",
              "    <tr>\n",
              "      <th>4</th>\n",
              "      <td>Q74073854</td>\n",
              "      <td>683-521-2001x423</td>\n",
              "      <td>424.0</td>\n",
              "      <td>4.610207e+15</td>\n",
              "      <td>Software engineer</td>\n",
              "      <td>michael61@example.net</td>\n",
              "      <td>https://www.mitchell.biz/</td>\n",
              "      <td>Russian Federation</td>\n",
              "      <td>💆🏿‍♂️</td>\n",
              "      <td>Kimberly Wilson</td>\n",
              "      <td>...</td>\n",
              "      <td>🍣🏿🟠U👨@10.957430264267883@️bY‍t</td>\n",
              "      <td>N6♀rs%-1.5309050040841568%g2Fu7</td>\n",
              "      <td>dwLNC+-17.670060957130605+D🟠Mj👩</td>\n",
              "      <td>♀Y‍tt^0.132418797411758^7b🎓🍣T</td>\n",
              "      <td>Q👩👨H🏾?3.6960467337932292?p🎨dBV</td>\n",
              "      <td>JC🍣8Q!4.588960052905303!Wo‍6t</td>\n",
              "      <td>QtgcM|-3.735829327461521|srwW❇</td>\n",
              "      <td>♀👩🦐pq%18.194146730985878%👨Oet♀</td>\n",
              "      <td>‍🏿🟠👩X+10.404818391481196+‍b🎨VK</td>\n",
              "      <td>Tears</td>\n",
              "    </tr>\n",
              "  </tbody>\n",
              "</table>\n",
              "<p>5 rows × 111 columns</p>\n",
              "</div>\n",
              "      <button class=\"colab-df-convert\" onclick=\"convertToInteractive('df-af16b931-b5e0-4916-bc52-24489a42da50')\"\n",
              "              title=\"Convert this dataframe to an interactive table.\"\n",
              "              style=\"display:none;\">\n",
              "\n",
              "  <svg xmlns=\"http://www.w3.org/2000/svg\" height=\"24px\"viewBox=\"0 0 24 24\"\n",
              "       width=\"24px\">\n",
              "    <path d=\"M0 0h24v24H0V0z\" fill=\"none\"/>\n",
              "    <path d=\"M18.56 5.44l.94 2.06.94-2.06 2.06-.94-2.06-.94-.94-2.06-.94 2.06-2.06.94zm-11 1L8.5 8.5l.94-2.06 2.06-.94-2.06-.94L8.5 2.5l-.94 2.06-2.06.94zm10 10l.94 2.06.94-2.06 2.06-.94-2.06-.94-.94-2.06-.94 2.06-2.06.94z\"/><path d=\"M17.41 7.96l-1.37-1.37c-.4-.4-.92-.59-1.43-.59-.52 0-1.04.2-1.43.59L10.3 9.45l-7.72 7.72c-.78.78-.78 2.05 0 2.83L4 21.41c.39.39.9.59 1.41.59.51 0 1.02-.2 1.41-.59l7.78-7.78 2.81-2.81c.8-.78.8-2.07 0-2.86zM5.41 20L4 18.59l7.72-7.72 1.47 1.35L5.41 20z\"/>\n",
              "  </svg>\n",
              "      </button>\n",
              "\n",
              "\n",
              "\n",
              "    <div id=\"df-e4ace83a-fb12-4c94-a212-f9d7639b1988\">\n",
              "      <button class=\"colab-df-quickchart\" onclick=\"quickchart('df-e4ace83a-fb12-4c94-a212-f9d7639b1988')\"\n",
              "              title=\"Suggest charts.\"\n",
              "              style=\"display:none;\">\n",
              "\n",
              "<svg xmlns=\"http://www.w3.org/2000/svg\" height=\"24px\"viewBox=\"0 0 24 24\"\n",
              "     width=\"24px\">\n",
              "    <g>\n",
              "        <path d=\"M19 3H5c-1.1 0-2 .9-2 2v14c0 1.1.9 2 2 2h14c1.1 0 2-.9 2-2V5c0-1.1-.9-2-2-2zM9 17H7v-7h2v7zm4 0h-2V7h2v10zm4 0h-2v-4h2v4z\"/>\n",
              "    </g>\n",
              "</svg>\n",
              "      </button>\n",
              "    </div>\n",
              "\n",
              "<style>\n",
              "  .colab-df-quickchart {\n",
              "    background-color: #E8F0FE;\n",
              "    border: none;\n",
              "    border-radius: 50%;\n",
              "    cursor: pointer;\n",
              "    display: none;\n",
              "    fill: #1967D2;\n",
              "    height: 32px;\n",
              "    padding: 0 0 0 0;\n",
              "    width: 32px;\n",
              "  }\n",
              "\n",
              "  .colab-df-quickchart:hover {\n",
              "    background-color: #E2EBFA;\n",
              "    box-shadow: 0px 1px 2px rgba(60, 64, 67, 0.3), 0px 1px 3px 1px rgba(60, 64, 67, 0.15);\n",
              "    fill: #174EA6;\n",
              "  }\n",
              "\n",
              "  [theme=dark] .colab-df-quickchart {\n",
              "    background-color: #3B4455;\n",
              "    fill: #D2E3FC;\n",
              "  }\n",
              "\n",
              "  [theme=dark] .colab-df-quickchart:hover {\n",
              "    background-color: #434B5C;\n",
              "    box-shadow: 0px 1px 3px 1px rgba(0, 0, 0, 0.15);\n",
              "    filter: drop-shadow(0px 1px 2px rgba(0, 0, 0, 0.3));\n",
              "    fill: #FFFFFF;\n",
              "  }\n",
              "</style>\n",
              "\n",
              "    <script>\n",
              "      async function quickchart(key) {\n",
              "        const containerElement = document.querySelector('#' + key);\n",
              "        const charts = await google.colab.kernel.invokeFunction(\n",
              "            'suggestCharts', [key], {});\n",
              "      }\n",
              "    </script>\n",
              "\n",
              "      <script>\n",
              "\n",
              "function displayQuickchartButton(domScope) {\n",
              "  let quickchartButtonEl =\n",
              "    domScope.querySelector('#df-e4ace83a-fb12-4c94-a212-f9d7639b1988 button.colab-df-quickchart');\n",
              "  quickchartButtonEl.style.display =\n",
              "    google.colab.kernel.accessAllowed ? 'block' : 'none';\n",
              "}\n",
              "\n",
              "        displayQuickchartButton(document);\n",
              "      </script>\n",
              "      <style>\n",
              "    .colab-df-container {\n",
              "      display:flex;\n",
              "      flex-wrap:wrap;\n",
              "      gap: 12px;\n",
              "    }\n",
              "\n",
              "    .colab-df-convert {\n",
              "      background-color: #E8F0FE;\n",
              "      border: none;\n",
              "      border-radius: 50%;\n",
              "      cursor: pointer;\n",
              "      display: none;\n",
              "      fill: #1967D2;\n",
              "      height: 32px;\n",
              "      padding: 0 0 0 0;\n",
              "      width: 32px;\n",
              "    }\n",
              "\n",
              "    .colab-df-convert:hover {\n",
              "      background-color: #E2EBFA;\n",
              "      box-shadow: 0px 1px 2px rgba(60, 64, 67, 0.3), 0px 1px 3px 1px rgba(60, 64, 67, 0.15);\n",
              "      fill: #174EA6;\n",
              "    }\n",
              "\n",
              "    [theme=dark] .colab-df-convert {\n",
              "      background-color: #3B4455;\n",
              "      fill: #D2E3FC;\n",
              "    }\n",
              "\n",
              "    [theme=dark] .colab-df-convert:hover {\n",
              "      background-color: #434B5C;\n",
              "      box-shadow: 0px 1px 3px 1px rgba(0, 0, 0, 0.15);\n",
              "      filter: drop-shadow(0px 1px 2px rgba(0, 0, 0, 0.3));\n",
              "      fill: #FFFFFF;\n",
              "    }\n",
              "  </style>\n",
              "\n",
              "      <script>\n",
              "        const buttonEl =\n",
              "          document.querySelector('#df-af16b931-b5e0-4916-bc52-24489a42da50 button.colab-df-convert');\n",
              "        buttonEl.style.display =\n",
              "          google.colab.kernel.accessAllowed ? 'block' : 'none';\n",
              "\n",
              "        async function convertToInteractive(key) {\n",
              "          const element = document.querySelector('#df-af16b931-b5e0-4916-bc52-24489a42da50');\n",
              "          const dataTable =\n",
              "            await google.colab.kernel.invokeFunction('convertToInteractive',\n",
              "                                                     [key], {});\n",
              "          if (!dataTable) return;\n",
              "\n",
              "          const docLinkHtml = 'Like what you see? Visit the ' +\n",
              "            '<a target=\"_blank\" href=https://colab.research.google.com/notebooks/data_table.ipynb>data table notebook</a>'\n",
              "            + ' to learn more about interactive tables.';\n",
              "          element.innerHTML = '';\n",
              "          dataTable['output_type'] = 'display_data';\n",
              "          await google.colab.output.renderOutput(dataTable, element);\n",
              "          const docLink = document.createElement('div');\n",
              "          docLink.innerHTML = docLinkHtml;\n",
              "          element.appendChild(docLink);\n",
              "        }\n",
              "      </script>\n",
              "    </div>\n",
              "  </div>\n"
            ]
          },
          "metadata": {},
          "execution_count": 4
        }
      ],
      "source": [
        "df = pd.read_csv(\"/content/drive/MyDrive/hell-week/train.csv\")\n",
        "df.head()"
      ]
    },
    {
      "cell_type": "code",
      "source": [
        "df.shape"
      ],
      "metadata": {
        "colab": {
          "base_uri": "https://localhost:8080/"
        },
        "id": "TJJq5_KCtqXi",
        "outputId": "1b12cc09-e448-4022-cea2-699bf6ea81e4"
      },
      "execution_count": 5,
      "outputs": [
        {
          "output_type": "execute_result",
          "data": {
            "text/plain": [
              "(140000, 111)"
            ]
          },
          "metadata": {},
          "execution_count": 5
        }
      ]
    },
    {
      "cell_type": "markdown",
      "source": [
        "Finding the null values"
      ],
      "metadata": {
        "id": "KTQdMlU99JlL"
      }
    },
    {
      "cell_type": "code",
      "source": [
        "df.isnull().sum()"
      ],
      "metadata": {
        "colab": {
          "base_uri": "https://localhost:8080/"
        },
        "id": "h2pRggpGu_s7",
        "outputId": "48991322-3fca-434c-8451-dc33fbfdb37a"
      },
      "execution_count": 6,
      "outputs": [
        {
          "output_type": "execute_result",
          "data": {
            "text/plain": [
              "UID                      0\n",
              "ph_no                 1267\n",
              "cvv                   1333\n",
              "credit_card_number    1295\n",
              "job                   1326\n",
              "                      ... \n",
              "pZijn                 1311\n",
              "WUc3c                 1312\n",
              "sCIyG                 1260\n",
              "qaERi                 1315\n",
              "state                    0\n",
              "Length: 111, dtype: int64"
            ]
          },
          "metadata": {},
          "execution_count": 6
        }
      ]
    },
    {
      "cell_type": "code",
      "source": [
        "from sklearn.model_selection import train_test_split\n",
        "import pandas as pd\n",
        "\n",
        "# Load training and testing data from the CSV files\n",
        "train_df = pd.read_csv(\"/content/drive/MyDrive/hell-week/train.csv\")\n",
        "test_df = pd.read_csv(\"/content/drive/MyDrive/hell-week/test.csv\")\n",
        "\n",
        "# Separate features and target variable for training data\n",
        "X_train = train_df.drop('state', axis=1)\n",
        "y_train = train_df['state']\n",
        "\n",
        "# Separate features from the testing data\n",
        "X_test = test_df\n",
        "\n",
        "# Split the training data into training and validation sets\n",
        "X_train_split, X_val_split, y_train_split, y_val_split = train_test_split(X_train, y_train, test_size=0.2, random_state=42)\n"
      ],
      "metadata": {
        "id": "4DMW-jrucg92"
      },
      "execution_count": 7,
      "outputs": []
    },
    {
      "cell_type": "code",
      "source": [
        "# Categorical columns\n",
        "cat_col = [col for col in df.columns if df[col].dtype == 'object']\n",
        "print('Categorical columns :',cat_col)\n",
        "# Numerical columns\n",
        "num_col = [col for col in df.columns if df[col].dtype != 'object']\n",
        "print('Numerical columns :',num_col)"
      ],
      "metadata": {
        "colab": {
          "base_uri": "https://localhost:8080/"
        },
        "id": "UikHy_wICWMl",
        "outputId": "1206f6d8-7968-4a82-92d1-afdc57b68c0e"
      },
      "execution_count": 12,
      "outputs": [
        {
          "output_type": "stream",
          "name": "stdout",
          "text": [
            "Categorical columns : ['UID', 'ph_no', 'job', 'email', 'url', 'country', 'emoji', 'name', 'K3Ll9', '19rjS', 'yeIIP', 'Bw1V5', '5k16L', 'e2l5S', 'cg31y', '8SVMv', 'Xsi3p', 'l8Y6n', 'vRJwh', 'CTzXJ', '13SMK', 'WUuos', 'UyaHP', 'i6ebQ', 'ciVeL', 'fOHiM', '1AFO4', 'b0QUS', 'vgNLa', 'EjWMB', 'Z9KvZ', 'LsnIb', 'kMpCl', 'gomep', '1Jfzv', 'piHSs', 'SQLeJ', '184Wa', 'HTOAr', 'gItG5', 'K7fG4', '9rzVt', '7Jilh', 'AOWfH', '7hdd4', '1QuOM', 'SQUqt', 'GZVIZ', 'TdpFZ', 'LeWc9', '6eCdH', 'tnrKz', 'YXZTK', 'pCgEW', 'hOqKS', 'Rc2TO', 'C3boy', 'NgYAu', 'pTU4e', 'ABLCt', 'bozM7', 'Got9C', 'OyOUV', 'lcIhR', 'aDdCa', 'UZRdX', 'aWUYS', 'eX7iy', 'tDFkL', 'eWqKh', 'zPoSs', 'XIIc6', 'QyiJU', 'aUxm5', 'ToGNB', 'BYbv6', 'VWwlJ', 'gl2KL', 'eWCdk', 'qLu1T', 'cO1Q3', 'X2hRu', 'sRaqu', 'dKQBH', 'NKspI', 'Ncx50', 'QfXOs', 'Zavi4', 'HpyWy', 'op6uG', 'k9NrC', 'dTj0P', '9IHv6', 'yiWZJ', 'JDyPw', '3nCgU', 'Bz7Ov', 'uN0aA', 'OaMqz', 'qhUzJ', 'FpCOT', 'zEnW3', 'ASDn5', 'vF2is', 'pZijn', 'WUc3c', 'sCIyG', 'qaERi', 'state']\n",
            "Numerical columns : ['cvv', 'credit_card_number']\n"
          ]
        }
      ]
    },
    {
      "cell_type": "code",
      "source": [
        "df[cat_col].nunique()"
      ],
      "metadata": {
        "colab": {
          "base_uri": "https://localhost:8080/"
        },
        "id": "opabc1FuCzkj",
        "outputId": "0810a530-4d27-47df-f98a-084af00d5092"
      },
      "execution_count": 13,
      "outputs": [
        {
          "output_type": "execute_result",
          "data": {
            "text/plain": [
              "UID      139995\n",
              "ph_no    138733\n",
              "job         639\n",
              "email    114112\n",
              "url       61091\n",
              "          ...  \n",
              "pZijn    138689\n",
              "WUc3c    138688\n",
              "sCIyG    138740\n",
              "qaERi    138685\n",
              "state        10\n",
              "Length: 109, dtype: int64"
            ]
          },
          "metadata": {},
          "execution_count": 13
        }
      ]
    },
    {
      "cell_type": "code",
      "source": [
        "import tensorflow as tf\n",
        "from tensorflow import keras\n"
      ],
      "metadata": {
        "id": "OLcfS4SH55MA"
      },
      "execution_count": 8,
      "outputs": []
    },
    {
      "cell_type": "code",
      "source": [
        "input_dim = X_train.shape[1]\n",
        "model = keras.Sequential([\n",
        "    keras.layers.Dense(64, activation='relu', input_shape=(input_dim,)),\n",
        "    keras.layers.Dense(64, activation='relu'),\n",
        "    keras.layers.Dense(1, activation='sigmoid')\n",
        "])\n",
        "\n",
        "model.compile(optimizer='adam', loss='categorical_crossentropy', metrics=['accuracy'])\n"
      ],
      "metadata": {
        "id": "Kz_zXocJ59fS"
      },
      "execution_count": 9,
      "outputs": []
    }
  ]
}